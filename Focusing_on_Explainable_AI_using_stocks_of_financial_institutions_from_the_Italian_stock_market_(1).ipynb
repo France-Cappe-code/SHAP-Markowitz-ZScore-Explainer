{
  "nbformat": 4,
  "nbformat_minor": 0,
  "metadata": {
    "colab": {
      "provenance": []
    },
    "kernelspec": {
      "name": "python3",
      "display_name": "Python 3"
    },
    "language_info": {
      "name": "python"
    }
  },
  "cells": [
    {
      "cell_type": "markdown",
      "source": [
        "# Project's description:\n",
        "\n",
        "This project implements an explainable robot advisory service for portfolio management.\n",
        "\n",
        "It addresses the common \"black-box\" problem in automated investment tools by using Machine Learning (Random Forest) to predict portfolio performance (Z-score) and then applying SHAP (SHapley Additive exPlanations) values to explain these predictions.\n",
        "\n",
        "Specifically, it demonstrates how to identify the most influential assets contributing to a portfolio's overall risk-adjusted return.\n",
        "\n",
        "For this implementation, I utilized historical stock data from Italian financial institutions to construct and analyze daily minimum volatility portfolios using the Markowitz model.\n",
        "\n",
        "The high R-squared value achieved on the test set indicates the model's strong predictive capability, while the SHAP analysis successfully uncovers the specific contributions of each financial ticker to the portfolio's performance.\n",
        "\n",
        "This provides crucial transparency, aiming to build trust in automated financial advice.\n",
        "\n",
        "**WARNING:**\n",
        "\n",
        "This is for code practice purposes only and it is not supposed to be used in real life by the people who read it.\n",
        "\n",
        "**Disclaimer**:\n",
        "\n",
        "This notebook is not a financial advisor."
      ],
      "metadata": {
        "id": "1CQhbIIt75Gd"
      }
    },
    {
      "cell_type": "code",
      "execution_count": null,
      "metadata": {
        "id": "P3zLtSEp3Jna"
      },
      "outputs": [],
      "source": [
        "import yfinance as yf\n",
        "import pandas as pd\n",
        "import numpy as np\n",
        "from scipy.optimize import minimize\n",
        "from sklearn.ensemble import RandomForestRegressor\n",
        "import shap\n",
        "import matplotlib.pyplot as plt\n",
        "import seaborn as sns"
      ]
    },
    {
      "cell_type": "code",
      "source": [
        "italian_financial_tickers = [\n",
        "    \"ISP.MI\",\n",
        "    \"UCG.MI\",\n",
        "    \"G.MI\",\n",
        "    \"MB.MI\",\n",
        "    \"BMED.MI\",\n",
        "    \"BAMI.MI\",\n",
        "    \"BPE.MI\",\n",
        "    \"FBK.MI\",\n",
        "    \"BMPS.MI\",\n",
        "    \"PST.MI\",\n",
        "    \"BGN.MI\",\n",
        "    \"CE.MI\",\n",
        "    \"BPSO.MI\",\n",
        "    \"UNI.MI\",\n",
        "    \"AZM.MI\"\n",
        "]\n",
        "\n",
        "start_date = \"2021-01-01\"\n",
        "end_date = \"2024-12-31\"\n",
        "rolling_window = 30\n",
        "\n",
        "\n",
        "print(\"1. Downloading historical data...\")\n",
        "data = yf.download(italian_financial_tickers, start=start_date, end=end_date)['Close']\n",
        "data = data.dropna(axis=1, how='all')\n",
        "data = data.dropna()\n",
        "\n",
        "if data.empty:\n",
        "    raise ValueError(\"No data downloaded. Check tickers and date range.\")\n",
        "\n",
        "\n",
        "returns = data.pct_change().dropna()\n",
        "\n",
        "print(f\"Downloaded data for {len(returns.columns)} assets from {returns.index.min().strftime('%Y-%m-%d')} to {returns.index.max().strftime('%Y-%m-%d')}\")\n",
        "print(\"Sample returns head:\")\n",
        "print(returns.head())\n"
      ],
      "metadata": {
        "colab": {
          "base_uri": "https://localhost:8080/"
        },
        "id": "I1GTHq8i3vBL",
        "outputId": "024a63af-4339-4876-867f-e6eee9875f8c"
      },
      "execution_count": null,
      "outputs": [
        {
          "output_type": "stream",
          "name": "stderr",
          "text": [
            "/tmp/ipython-input-9-2344553701.py:25: FutureWarning: YF.download() has changed argument auto_adjust default to True\n",
            "  data = yf.download(italian_financial_tickers, start=start_date, end=end_date)['Close']\n",
            "[*************         27%                       ]  4 of 15 completed"
          ]
        },
        {
          "output_type": "stream",
          "name": "stdout",
          "text": [
            "1. Downloading historical data...\n"
          ]
        },
        {
          "output_type": "stream",
          "name": "stderr",
          "text": [
            "[*********************100%***********************]  15 of 15 completed\n"
          ]
        },
        {
          "output_type": "stream",
          "name": "stdout",
          "text": [
            "Downloaded data for 15 assets from 2021-01-05 to 2024-12-30\n",
            "Sample returns head:\n",
            "Ticker        AZM.MI   BAMI.MI    BGN.MI   BMED.MI   BMPS.MI    BPE.MI  \\\n",
            "Date                                                                     \n",
            "2021-01-05 -0.010420 -0.000278 -0.018909 -0.025352  0.060928  0.008208   \n",
            "2021-01-06  0.016221  0.056777  0.009637  0.032514  0.036463  0.053256   \n",
            "2021-01-07  0.000840  0.030024  0.004405 -0.006298 -0.006156  0.061836   \n",
            "2021-01-08 -0.001959 -0.007926 -0.006579 -0.004930  0.008849 -0.011222   \n",
            "2021-01-11 -0.000561 -0.010052 -0.007358  0.002123 -0.021053  0.020552   \n",
            "\n",
            "Ticker       BPSO.MI     CE.MI    FBK.MI      G.MI    ISP.MI     MB.MI  \\\n",
            "Date                                                                     \n",
            "2021-01-05 -0.000907 -0.011468 -0.018262 -0.011016 -0.010917  0.003780   \n",
            "2021-01-06  0.048094  0.013921  0.001116  0.042041  0.033857  0.037924   \n",
            "2021-01-07  0.019048  0.020595  0.020810 -0.002069  0.010163 -0.002850   \n",
            "2021-01-08 -0.011895 -0.001121 -0.009465  0.002073 -0.006606 -0.019231   \n",
            "2021-01-11 -0.020636  0.003367  0.009555 -0.005517 -0.006240 -0.007684   \n",
            "\n",
            "Ticker        PST.MI    UCG.MI    UNI.MI  \n",
            "Date                                      \n",
            "2021-01-05 -0.006473 -0.010946 -0.002571  \n",
            "2021-01-06  0.030405  0.060933  0.027320  \n",
            "2021-01-07  0.020843  0.009426  0.010035  \n",
            "2021-01-08 -0.014223  0.018177 -0.000497  \n",
            "2021-01-11 -0.006982 -0.017364  0.018887  \n"
          ]
        }
      ]
    },
    {
      "cell_type": "code",
      "source": [
        "print(\"\\n2. Performing daily Markowitz portfolio optimization (minimum volatility)...\")\n",
        "\n",
        "def portfolio_volatility(weights, cov_matrix):\n",
        "    return np.sqrt(np.dot(weights.T, np.dot(cov_matrix, weights)))\n",
        "\n",
        "def daily_markowitz_min_vol_weights(returns_window):\n",
        "    num_assets = returns_window.shape[1]\n",
        "\n",
        "\n",
        "    cov_matrix = returns_window.cov() * 252\n",
        "\n",
        "\n",
        "    if cov_matrix.isnull().values.any() or not np.all(np.isfinite(cov_matrix)):\n",
        "\n",
        "        return np.ones(num_assets) / num_assets\n",
        "\n",
        "\n",
        "    constraints = ({'type': 'eq', 'fun': lambda x: np.sum(x) - 1})\n",
        "    bounds = tuple((0, 1) for asset in range(num_assets))\n",
        "\n",
        "\n",
        "    initial_weights = np.array(num_assets * [1. / num_assets,])\n",
        "\n",
        "\n",
        "    optimal_results = minimize(portfolio_volatility, initial_weights, args=(cov_matrix,),\n",
        "                               method='SLSQP', bounds=bounds, constraints=constraints)\n",
        "\n",
        "    if optimal_results.success:\n",
        "        return optimal_results.x\n",
        "    else:\n",
        "\n",
        "        return np.ones(num_assets) / num_assets\n",
        "\n",
        "portfolio_weights_df = pd.DataFrame(index=returns.index[rolling_window-1:], columns=returns.columns)\n",
        "portfolio_returns_daily = pd.Series(index=returns.index[rolling_window-1:], dtype=float)\n",
        "portfolio_risk_daily = pd.Series(index=returns.index[rolling_window-1:], dtype=float)\n",
        "\n",
        "\n",
        "for i in range(rolling_window - 1, len(returns)):\n",
        "    window_start_idx = i - (rolling_window - 1)\n",
        "    window_end_idx = i + 1\n",
        "    current_window_returns = returns.iloc[window_start_idx:window_end_idx]\n",
        "\n",
        "\n",
        "    if current_window_returns.shape[0] < rolling_window:\n",
        "        continue\n",
        "\n",
        "    current_date = returns.index[i]\n",
        "\n",
        "\n",
        "    weights = daily_markowitz_min_vol_weights(current_window_returns)\n",
        "    portfolio_weights_df.loc[current_date] = weights\n",
        "\n",
        "\n",
        "    current_day_returns = returns.iloc[i].values\n",
        "    current_cov_matrix = current_window_returns.cov() * 252\n",
        "\n",
        "    portfolio_daily_return = np.dot(weights, current_day_returns)\n",
        "    portfolio_daily_risk = np.sqrt(np.dot(weights.T, np.dot(current_cov_matrix, weights)))\n",
        "\n",
        "    portfolio_returns_daily.loc[current_date] = portfolio_daily_return\n",
        "    portfolio_risk_daily.loc[current_date] = portfolio_daily_risk\n",
        "\n",
        "\n",
        "portfolio_weights_df = portfolio_weights_df.dropna()\n",
        "portfolio_returns_daily = portfolio_returns_daily.dropna()\n",
        "portfolio_risk_daily = portfolio_risk_daily.dropna()\n",
        "\n",
        "print(\"Sample portfolio weights head:\")\n",
        "print(portfolio_weights_df.head())\n",
        "print(\"Sample portfolio daily returns head:\")\n",
        "print(portfolio_returns_daily.head())\n",
        "print(\"Sample portfolio daily risk head:\")\n",
        "print(portfolio_risk_daily.head())\n"
      ],
      "metadata": {
        "colab": {
          "base_uri": "https://localhost:8080/"
        },
        "id": "zI9sHBaf3vDo",
        "outputId": "e8714ccc-663c-4823-c332-637896590ead"
      },
      "execution_count": null,
      "outputs": [
        {
          "output_type": "stream",
          "name": "stdout",
          "text": [
            "\n",
            "2. Performing daily Markowitz portfolio optimization (minimum volatility)...\n",
            "Sample portfolio weights head:\n",
            "Ticker     AZM.MI BAMI.MI    BGN.MI BMED.MI BMPS.MI BPE.MI BPSO.MI CE.MI  \\\n",
            "Date                                                                       \n",
            "2021-02-15    0.0     0.0  0.334449     0.0     0.0    0.0     0.0   0.0   \n",
            "2021-02-16    0.0     0.0  0.341612     0.0     0.0    0.0     0.0   0.0   \n",
            "2021-02-17    0.0     0.0  0.066645     0.0     0.0    0.0     0.0   0.0   \n",
            "2021-02-18    0.0     0.0  0.064873     0.0     0.0    0.0     0.0   0.0   \n",
            "2021-02-19    0.0     0.0  0.049323     0.0     0.0    0.0     0.0   0.0   \n",
            "\n",
            "Ticker        FBK.MI      G.MI ISP.MI     MB.MI PST.MI UCG.MI UNI.MI  \n",
            "Date                                                                  \n",
            "2021-02-15  0.111378  0.506489    0.0  0.047683    0.0    0.0    0.0  \n",
            "2021-02-16  0.132503  0.525885    0.0       0.0    0.0    0.0    0.0  \n",
            "2021-02-17       0.0  0.840658    0.0  0.092698    0.0    0.0    0.0  \n",
            "2021-02-18       0.0   0.81302    0.0  0.122107    0.0    0.0    0.0  \n",
            "2021-02-19       0.0  0.792371    0.0  0.158306    0.0    0.0    0.0  \n",
            "Sample portfolio daily returns head:\n",
            "Date\n",
            "2021-02-15    0.011056\n",
            "2021-02-16   -0.008534\n",
            "2021-02-17   -0.004656\n",
            "2021-02-18   -0.013057\n",
            "2021-02-19    0.010232\n",
            "dtype: float64\n",
            "Sample portfolio daily risk head:\n",
            "Date\n",
            "2021-02-15    0.212745\n",
            "2021-02-16    0.209113\n",
            "2021-02-17    0.193308\n",
            "2021-02-18    0.198461\n",
            "2021-02-19    0.199285\n",
            "dtype: float64\n"
          ]
        }
      ]
    },
    {
      "cell_type": "code",
      "source": [
        "print(\"\\n3. Calculating Z-scores for individual assets and portfolio...\")\n",
        "\n",
        "\n",
        "common_index = portfolio_weights_df.index.intersection(returns.index)\n",
        "returns_aligned = returns.loc[common_index]\n",
        "portfolio_weights_df_aligned = portfolio_weights_df.loc[common_index]\n",
        "portfolio_returns_daily_aligned = portfolio_returns_daily.loc[common_index]\n",
        "portfolio_risk_daily_aligned = portfolio_risk_daily.loc[common_index]\n",
        "\n",
        "\n",
        "individual_asset_z_scores = pd.DataFrame(index=returns_aligned.index, columns=returns_aligned.columns)\n",
        "\n",
        "for i in range(len(returns_aligned)):\n",
        "    current_date = returns_aligned.index[i]\n",
        "\n",
        "\n",
        "    if i < rolling_window:\n",
        "        continue\n",
        "\n",
        "    historical_returns_window = returns_aligned.iloc[i - rolling_window : i]\n",
        "\n",
        "\n",
        "    mean_returns_window = historical_returns_window.mean()\n",
        "    std_dev_returns_window = historical_returns_window.std()\n",
        "\n",
        "\n",
        "    current_day_actual_returns = returns_aligned.loc[current_date]\n",
        "\n",
        "\n",
        "    std_dev_returns_window_safe = std_dev_returns_window.replace(0, np.nan)\n",
        "    asset_z_scores = (current_day_actual_returns - mean_returns_window) / std_dev_returns_window_safe\n",
        "\n",
        "    individual_asset_z_scores.loc[current_date] = asset_z_scores\n",
        "\n",
        "individual_asset_z_scores = individual_asset_z_scores.dropna(how='all')\n",
        "individual_asset_z_scores = individual_asset_z_scores.fillna(0)\n",
        "\n",
        "print(\"Sample individual asset Z-scores head:\")\n",
        "print(individual_asset_z_scores.head())\n",
        "\n",
        "\n",
        "\n",
        "portfolio_z_scores = pd.Series(index=portfolio_returns_daily_aligned.index, dtype=float)\n",
        "\n",
        "for i in range(len(portfolio_returns_daily_aligned)):\n",
        "    current_date = portfolio_returns_daily_aligned.index[i]\n",
        "\n",
        "    if i < rolling_window:\n",
        "        continue\n",
        "\n",
        "\n",
        "    historical_portfolio_returns_window = portfolio_returns_daily_aligned.iloc[i - rolling_window : i]\n",
        "    historical_portfolio_risk_window = portfolio_risk_daily_aligned.iloc[i - rolling_window : i]\n",
        "\n",
        "    mean_portfolio_return_window = historical_portfolio_returns_window.mean()\n",
        "    std_dev_portfolio_return_window = historical_portfolio_returns_window.std()\n",
        "\n",
        "\n",
        "    current_day_actual_portfolio_return = portfolio_returns_daily_aligned.loc[current_date]\n",
        "\n",
        "    if std_dev_portfolio_return_window > 0:\n",
        "        portfolio_z_scores.loc[current_date] = (current_day_actual_portfolio_return - mean_portfolio_return_window) / std_dev_portfolio_return_window\n",
        "    else:\n",
        "        portfolio_z_scores.loc[current_date] = 0\n",
        "\n",
        "portfolio_z_scores = portfolio_z_scores.dropna()\n",
        "print(\"Sample portfolio Z-scores head:\")\n",
        "print(portfolio_z_scores.head())\n",
        "\n",
        "\n",
        "common_ml_index = individual_asset_z_scores.index.intersection(portfolio_z_scores.index)\n",
        "X = individual_asset_z_scores.loc[common_ml_index]\n",
        "y = portfolio_z_scores.loc[common_ml_index]\n",
        "\n",
        "if X.empty or y.empty:\n",
        "    raise ValueError(\"Not enough aligned data for Machine Learning. Check data ranges and window size.\")\n",
        "\n",
        "print(f\"\\nData ready for ML: X shape {X.shape}, y shape {y.shape}\")\n"
      ],
      "metadata": {
        "colab": {
          "base_uri": "https://localhost:8080/"
        },
        "id": "CeYuI1vU3vGD",
        "outputId": "2684221e-8a19-4163-ebf9-c3450ea7ec0b"
      },
      "execution_count": null,
      "outputs": [
        {
          "output_type": "stream",
          "name": "stdout",
          "text": [
            "\n",
            "3. Calculating Z-scores for individual assets and portfolio...\n"
          ]
        },
        {
          "output_type": "stream",
          "name": "stderr",
          "text": [
            "/tmp/ipython-input-11-1917581825.py:38: FutureWarning: Downcasting object dtype arrays on .fillna, .ffill, .bfill is deprecated and will change in a future version. Call result.infer_objects(copy=False) instead. To opt-in to the future behavior, set `pd.set_option('future.no_silent_downcasting', True)`\n",
            "  individual_asset_z_scores = individual_asset_z_scores.fillna(0) # Fill remaining NaNs (e.g., std=0) with 0, implying no deviation\n"
          ]
        },
        {
          "output_type": "stream",
          "name": "stdout",
          "text": [
            "Sample individual asset Z-scores head:\n",
            "Ticker        AZM.MI   BAMI.MI    BGN.MI   BMED.MI   BMPS.MI    BPE.MI  \\\n",
            "Date                                                                     \n",
            "2021-03-29  0.312257 -0.001423  0.037937 -0.303935 -0.040346 -0.595601   \n",
            "2021-03-30  1.511854  1.175157  0.431351  0.782933  1.188430  0.017623   \n",
            "2021-03-31 -0.651559 -1.909751 -1.160779 -0.454907 -0.567963 -0.677869   \n",
            "2021-04-01 -0.004113 -0.096973  0.010742 -0.370312  3.896654  0.636513   \n",
            "2021-04-06  0.359383 -0.495789  1.023290  0.185696  0.254503 -0.185377   \n",
            "\n",
            "Ticker       BPSO.MI     CE.MI    FBK.MI      G.MI    ISP.MI     MB.MI  \\\n",
            "Date                                                                     \n",
            "2021-03-29 -0.637979  0.288722 -0.408167  0.544605 -0.785645  0.034641   \n",
            "2021-03-30  2.082941  0.880760  1.232397  0.218605  1.333246  0.931050   \n",
            "2021-03-31 -2.008788 -1.594625 -0.066141 -0.778706 -0.832601 -1.725055   \n",
            "2021-04-01  0.544598 -0.217076  0.158389 -0.484818 -0.005695 -0.059578   \n",
            "2021-04-06 -0.364761  1.153964 -0.483235  0.310556 -0.982050 -0.699138   \n",
            "\n",
            "Ticker        PST.MI    UCG.MI    UNI.MI  \n",
            "Date                                      \n",
            "2021-03-29  1.296811 -0.860282  0.140477  \n",
            "2021-03-30  0.239837  0.951641  1.587148  \n",
            "2021-03-31 -0.370533 -0.867880 -0.630529  \n",
            "2021-04-01  0.134595 -0.141672 -0.158680  \n",
            "2021-04-06 -0.199114 -0.228527  0.109132  \n",
            "Sample portfolio Z-scores head:\n",
            "Date\n",
            "2021-03-29   -0.135580\n",
            "2021-03-30    0.664197\n",
            "2021-03-31   -1.126828\n",
            "2021-04-01    0.547397\n",
            "2021-04-06    0.125993\n",
            "dtype: float64\n",
            "\n",
            "Data ready for ML: X shape (959, 15), y shape (959,)\n"
          ]
        }
      ]
    },
    {
      "cell_type": "code",
      "source": [
        "print(\"\\n4. Training Random Forest model...\")\n",
        "\n",
        "\n",
        "train_size = int(0.7 * len(X))\n",
        "X_train, X_test = X.iloc[:train_size], X.iloc[train_size:]\n",
        "y_train, y_test = y.iloc[:train_size], y.iloc[train_size:]\n",
        "\n",
        "\n",
        "model = RandomForestRegressor(n_estimators=100, random_state=42, n_jobs=-1)\n",
        "model.fit(X_train, y_train)\n",
        "\n",
        "print(f\"Random Forest model trained on {len(X_train)} samples.\")\n",
        "print(f\"R-squared on test set: {model.score(X_test, y_test):.4f}\")\n"
      ],
      "metadata": {
        "colab": {
          "base_uri": "https://localhost:8080/"
        },
        "id": "U6GBRf-C3vIp",
        "outputId": "3964b32b-b4d8-499f-bc44-95394c81c201"
      },
      "execution_count": null,
      "outputs": [
        {
          "output_type": "stream",
          "name": "stdout",
          "text": [
            "\n",
            "4. Training Random Forest model...\n",
            "Random Forest model trained on 671 samples.\n",
            "R-squared on test set: 0.8224\n"
          ]
        }
      ]
    },
    {
      "cell_type": "code",
      "source": [
        "print(\"\\n5. Applying SHAP values for explainability...\")\n",
        "\n",
        "\n",
        "explainer = shap.TreeExplainer(model)\n",
        "\n",
        "\n",
        "shap_values = explainer.shap_values(X_test)\n",
        "\n",
        "\n",
        "shap_summary = pd.DataFrame({\n",
        "    'Feature': X_test.columns,\n",
        "    'Mean_Abs_SHAP_Value': np.abs(shap_values).mean(axis=0)\n",
        "})\n",
        "shap_summary = shap_summary.sort_values(by='Mean_Abs_SHAP_Value', ascending=False)\n",
        "\n",
        "print(\"\\nMean Absolute SHAP values (Global Feature Importance):\")\n",
        "print(shap_summary)\n",
        "\n",
        "\n",
        "plt.figure(figsize=(10, 7))\n",
        "sns.barplot(x='Mean_Abs_SHAP_Value', y='Feature', data=shap_summary)\n",
        "plt.title('Global Feature Importance (Mean Absolute SHAP Value) for Portfolio Z-score')\n",
        "plt.xlabel('Mean Absolute SHAP Value')\n",
        "plt.ylabel('Italian Financial Ticker')\n",
        "plt.tight_layout()\n",
        "plt.show()\n",
        "\n",
        "print(\"\\n--- Implementation Complete ---\")"
      ],
      "metadata": {
        "colab": {
          "base_uri": "https://localhost:8080/",
          "height": 1000
        },
        "id": "-4-M73ET3vLK",
        "outputId": "49ee97ce-bd76-4370-952e-f142ac1c039f"
      },
      "execution_count": null,
      "outputs": [
        {
          "output_type": "stream",
          "name": "stdout",
          "text": [
            "\n",
            "5. Applying SHAP values for explainability...\n",
            "\n",
            "Mean Absolute SHAP values (Global Feature Importance):\n",
            "    Feature  Mean_Abs_SHAP_Value\n",
            "9      G.MI             0.367224\n",
            "11    MB.MI             0.152667\n",
            "10   ISP.MI             0.144921\n",
            "3   BMED.MI             0.077546\n",
            "7     CE.MI             0.075121\n",
            "14   UNI.MI             0.073526\n",
            "2    BGN.MI             0.052698\n",
            "4   BMPS.MI             0.038478\n",
            "0    AZM.MI             0.024374\n",
            "13   UCG.MI             0.019438\n",
            "12   PST.MI             0.018726\n",
            "6   BPSO.MI             0.017042\n",
            "8    FBK.MI             0.011488\n",
            "5    BPE.MI             0.009555\n",
            "1   BAMI.MI             0.006971\n"
          ]
        },
        {
          "output_type": "display_data",
          "data": {
            "text/plain": [
              "<Figure size 1000x700 with 1 Axes>"
            ],
            "image/png": "[encoded data removed]"
          },
          "metadata": {}
        },
        {
          "output_type": "stream",
          "name": "stdout",
          "text": [
            "\n",
            "--- Implementation Complete ---\n"
          ]
        }
      ]
    },
    {
      "cell_type": "markdown",
      "source": [
        "# **Commenting the results:**\n",
        "\n",
        "G.MI is the Dominant Factor:\n",
        "\n",
        "Its Mean Absolute SHAP value (0.367224) is significantly higher than any other asset, indicating that the risk-adjusted performance (Z-score) of G.MI is by far the most influential factor in explaining the overall predicted portfolio Z-score by the Random Forest model.\n",
        "\n",
        "This means changes in G.MI's Z-score will have the largest average impact on the portfolio's predicted Z-score.\n",
        "\n",
        "**Top Tier Influencers** (G.MI, MB.MI, ISP.MI):\n",
        "\n",
        "Following G.MI, MB.MI and ISP.MI are the next most important features.\n",
        "\n",
        "These three Italian financial institutions collectively drive a large portion of the model's explanation for the portfolio's performance.\n",
        "\n",
        "**Tiered Importance:**\n",
        "\n",
        "The remaining assets show a clear hierarchy of influence, with some having moderate impact (e.g., BMED.MI, CE.MI, UNI.MI) and others having very minimal average impact on the model's predictions (e.g., BAMI.MI, BPE.MI, FBK.MI).\n",
        "\n",
        "**Final oberservations:**\n",
        "\n",
        "In summary, this SHAP result is excellent because it directly provides the desired explainability, a critical component for increasing the adoption and reliability of robot advisory services in the financial sector.\n",
        "\n",
        "However this experiment was written only in order to practice with code and it is not a financial advisor."
      ],
      "metadata": {
        "id": "H-DcKHeO5pvl"
      }
    }
  ]
}